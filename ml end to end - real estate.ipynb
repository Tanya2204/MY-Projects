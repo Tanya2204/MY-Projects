{
 "cells": [
  {
   "cell_type": "code",
   "execution_count": 20,
   "id": "cdd1e77b",
   "metadata": {},
   "outputs": [
    {
     "data": {
      "text/plain": [
       "['real_estate_model.joblib']"
      ]
     },
     "execution_count": 20,
     "metadata": {},
     "output_type": "execute_result"
    }
   ],
   "source": [
    "import pandas as pd\n",
    "from sklearn.linear_model import LinearRegression\n",
    "import joblib\n",
    "\n",
    "# Load the dataset\n",
    "real_estate_data = pd.read_csv(\"Real_Estate.csv\")\n",
    "\n",
    "# Define features and target\n",
    "features = ['Distance to the nearest MRT station', 'Number of convenience stores', 'Latitude', 'Longitude']\n",
    "target = 'House price of unit area'\n",
    "\n",
    "X = real_estate_data[features]\n",
    "y = real_estate_data[target]\n",
    "\n",
    "# Train the model\n",
    "model = LinearRegression()\n",
    "model.fit(X, y)\n",
    "\n",
    "# Save the model\n",
    "joblib.dump(model, 'real_estate_model.joblib')\n"
   ]
  },
  {
   "cell_type": "code",
   "execution_count": 21,
   "id": "17b8043f",
   "metadata": {},
   "outputs": [
    {
     "name": "stdout",
     "output_type": "stream",
     "text": [
      "Requirement already satisfied: dash in ./anaconda3/lib/python3.11/site-packages (2.17.1)\n",
      "Requirement already satisfied: Flask<3.1,>=1.0.4 in ./anaconda3/lib/python3.11/site-packages (from dash) (2.2.2)\n",
      "Requirement already satisfied: Werkzeug<3.1 in ./anaconda3/lib/python3.11/site-packages (from dash) (2.2.3)\n",
      "Requirement already satisfied: plotly>=5.0.0 in ./anaconda3/lib/python3.11/site-packages (from dash) (5.9.0)\n",
      "Requirement already satisfied: dash-html-components==2.0.0 in ./anaconda3/lib/python3.11/site-packages (from dash) (2.0.0)\n",
      "Requirement already satisfied: dash-core-components==2.0.0 in ./anaconda3/lib/python3.11/site-packages (from dash) (2.0.0)\n",
      "Requirement already satisfied: dash-table==5.0.0 in ./anaconda3/lib/python3.11/site-packages (from dash) (5.0.0)\n",
      "Requirement already satisfied: importlib-metadata in ./anaconda3/lib/python3.11/site-packages (from dash) (6.0.0)\n",
      "Requirement already satisfied: typing-extensions>=4.1.1 in ./anaconda3/lib/python3.11/site-packages (from dash) (4.7.1)\n",
      "Requirement already satisfied: requests in ./anaconda3/lib/python3.11/site-packages (from dash) (2.31.0)\n",
      "Requirement already satisfied: retrying in ./anaconda3/lib/python3.11/site-packages (from dash) (1.3.4)\n",
      "Requirement already satisfied: nest-asyncio in ./anaconda3/lib/python3.11/site-packages (from dash) (1.5.6)\n",
      "Requirement already satisfied: setuptools in ./anaconda3/lib/python3.11/site-packages (from dash) (68.0.0)\n",
      "Requirement already satisfied: Jinja2>=3.0 in ./anaconda3/lib/python3.11/site-packages (from Flask<3.1,>=1.0.4->dash) (3.1.2)\n",
      "Requirement already satisfied: itsdangerous>=2.0 in ./anaconda3/lib/python3.11/site-packages (from Flask<3.1,>=1.0.4->dash) (2.0.1)\n",
      "Requirement already satisfied: click>=8.0 in ./anaconda3/lib/python3.11/site-packages (from Flask<3.1,>=1.0.4->dash) (8.0.4)\n",
      "Requirement already satisfied: tenacity>=6.2.0 in ./anaconda3/lib/python3.11/site-packages (from plotly>=5.0.0->dash) (8.2.2)\n",
      "Requirement already satisfied: MarkupSafe>=2.1.1 in ./anaconda3/lib/python3.11/site-packages (from Werkzeug<3.1->dash) (2.1.1)\n",
      "Requirement already satisfied: zipp>=0.5 in ./anaconda3/lib/python3.11/site-packages (from importlib-metadata->dash) (3.11.0)\n",
      "Requirement already satisfied: charset-normalizer<4,>=2 in ./anaconda3/lib/python3.11/site-packages (from requests->dash) (2.0.4)\n",
      "Requirement already satisfied: idna<4,>=2.5 in ./anaconda3/lib/python3.11/site-packages (from requests->dash) (3.4)\n",
      "Requirement already satisfied: urllib3<3,>=1.21.1 in ./anaconda3/lib/python3.11/site-packages (from requests->dash) (1.26.16)\n",
      "Requirement already satisfied: certifi>=2017.4.17 in ./anaconda3/lib/python3.11/site-packages (from requests->dash) (2023.7.22)\n",
      "Requirement already satisfied: six>=1.7.0 in ./anaconda3/lib/python3.11/site-packages (from retrying->dash) (1.16.0)\n"
     ]
    }
   ],
   "source": [
    "!pip install dash\n"
   ]
  },
  {
   "cell_type": "code",
   "execution_count": 23,
   "id": "ea495bb3",
   "metadata": {},
   "outputs": [
    {
     "data": {
      "text/html": [
       "\n",
       "        <iframe\n",
       "            width=\"100%\"\n",
       "            height=\"650\"\n",
       "            src=\"http://127.0.0.1:8050/\"\n",
       "            frameborder=\"0\"\n",
       "            allowfullscreen\n",
       "            \n",
       "        ></iframe>\n",
       "        "
      ],
      "text/plain": [
       "<IPython.lib.display.IFrame at 0x16a9bc5d0>"
      ]
     },
     "metadata": {},
     "output_type": "display_data"
    }
   ],
   "source": [
    "import dash\n",
    "from dash import html, dcc, Input, Output, State\n",
    "import pandas as pd\n",
    "import joblib\n",
    "\n",
    "# Load the pre-trained model\n",
    "model = joblib.load('real_estate_model.joblib')\n",
    "\n",
    "# Initialize the Dash app\n",
    "app = dash.Dash(__name__)\n",
    "\n",
    "# Define the layout of the app\n",
    "app.layout = html.Div([\n",
    "    html.Div([\n",
    "        html.H1(\"Real Estate Price Prediction\", style={'text-align': 'center'}),\n",
    "        \n",
    "        html.Div([\n",
    "            dcc.Input(id='distance_to_mrt', type='number', placeholder='Distance to MRT Station (meters)',\n",
    "                      style={'margin': '10px', 'padding': '10px'}),\n",
    "            dcc.Input(id='num_convenience_stores', type='number', placeholder='Number of Convenience Stores',\n",
    "                      style={'margin': '10px', 'padding': '10px'}),\n",
    "            dcc.Input(id='latitude', type='number', placeholder='Latitude',\n",
    "                      style={'margin': '10px', 'padding': '10px'}),\n",
    "            dcc.Input(id='longitude', type='number', placeholder='Longitude',\n",
    "                      style={'margin': '10px', 'padding': '10px'}),\n",
    "            html.Button('Predict Price', id='predict_button', n_clicks=0,\n",
    "                        style={'margin': '10px', 'padding': '10px', 'background-color': '#007BFF', 'color': 'white'}),\n",
    "        ], style={'text-align': 'center'}),\n",
    "        \n",
    "        html.Div(id='prediction_output', style={'text-align': 'center', 'font-size': '20px', 'margin-top': '20px'})\n",
    "    ], style={'width': '50%', 'margin': '0 auto', 'border': '2px solid #007BFF', 'padding': '20px', 'border-radius': '10px'})\n",
    "])\n",
    "\n",
    "# Define callback to update output\n",
    "@app.callback(\n",
    "    Output('prediction_output', 'children'),\n",
    "    [Input('predict_button', 'n_clicks')],\n",
    "    [State('distance_to_mrt', 'value'), \n",
    "     State('num_convenience_stores', 'value'),\n",
    "     State('latitude', 'value'),\n",
    "     State('longitude', 'value')]\n",
    ")\n",
    "def update_output(n_clicks, distance_to_mrt, num_convenience_stores, latitude, longitude):\n",
    "    if n_clicks > 0 and all(v is not None for v in [distance_to_mrt, num_convenience_stores, latitude, longitude]):\n",
    "        # Prepare the feature vector with correct column names\n",
    "        features = pd.DataFrame([[distance_to_mrt, num_convenience_stores, latitude, longitude]], \n",
    "                                columns=['Distance to the nearest MRT station', 'Number of convenience stores', 'Latitude', 'Longitude'])\n",
    "        # Predict\n",
    "        prediction = model.predict(features)[0]\n",
    "        return f'Predicted House Price of Unit Area: {prediction:.2f}'\n",
    "    elif n_clicks > 0:\n",
    "        return 'Please enter all values to get a prediction'\n",
    "    return ''\n",
    "\n",
    "# Run the app\n",
    "if __name__ == '__main__':\n",
    "    app.run_server(debug=True)\n"
   ]
  },
  {
   "cell_type": "code",
   "execution_count": null,
   "id": "c9f6aed0",
   "metadata": {},
   "outputs": [],
   "source": []
  },
  {
   "cell_type": "code",
   "execution_count": null,
   "id": "0e099427",
   "metadata": {},
   "outputs": [],
   "source": []
  }
 ],
 "metadata": {
  "kernelspec": {
   "display_name": "Python 3 (ipykernel)",
   "language": "python",
   "name": "python3"
  },
  "language_info": {
   "codemirror_mode": {
    "name": "ipython",
    "version": 3
   },
   "file_extension": ".py",
   "mimetype": "text/x-python",
   "name": "python",
   "nbconvert_exporter": "python",
   "pygments_lexer": "ipython3",
   "version": "3.11.5"
  }
 },
 "nbformat": 4,
 "nbformat_minor": 5
}
